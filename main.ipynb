{
 "cells": [
  {
   "cell_type": "markdown",
   "metadata": {},
   "source": [
    "# Lab 7 - Malware classificaction with Deep Learning\n",
    "Sergio Marchena\n",
    "\n",
    "UVG"
   ]
  },
  {
   "cell_type": "code",
   "execution_count": 30,
   "metadata": {},
   "outputs": [],
   "source": [
    "import os\n",
    "import pandas as pd\n",
    "import numpy as np"
   ]
  },
  {
   "cell_type": "markdown",
   "metadata": {},
   "source": [
    "## Desarrollo"
   ]
  },
  {
   "cell_type": "markdown",
   "metadata": {},
   "source": [
    "### 1. En el preprocesamiento debe mostrar cuantos ejemplares hay por cada familia. En base a estos datos debe determinar si considera pertinente prescindir de ejemplares que tengan pocas observaciones. "
   ]
  },
  {
   "cell_type": "code",
   "execution_count": 29,
   "metadata": {},
   "outputs": [
    {
     "name": "stdout",
     "output_type": "stream",
     "text": [
      "Adalier.C:  122\n",
      "Agent.FYI:  116\n",
      "Allaple.A:  116\n",
      "Allaple.L:  1591\n",
      "Alueron.gen!J:  198\n",
      "Autorun.K:  106\n",
      "C2LOP.P:  146\n",
      "Dialplatform.B:  177\n",
      "Dontovo.A:  162\n",
      "Fakerean:  381\n",
      "Instantaccess:  431\n",
      "LolydaAA1:  213\n",
      "LolydaAA2:  213\n",
      "LolydaAA3:  213\n",
      "LolydaAT:  159\n",
      "Malex:  136\n",
      "Obfuscator:  142\n",
      "Rbot:  158\n",
      "Skintrim:  80\n",
      "SwizzorE:  128\n",
      "SwizzorI:  132\n",
      "VB.AT:  408\n",
      "Wintrim:  97\n",
      "Yuner:  800\n"
     ]
    }
   ],
   "source": [
    "Adalier = next(os.walk('malimg_paper_dataset_imgs/Adialer.C'))[2]\n",
    "Agent = next(os.walk('malimg_paper_dataset_imgs/Agent.FYI'))[2]\n",
    "Allaple = next(os.walk('malimg_paper_dataset_imgs/Allaple.A'))[2]\n",
    "AllapleL = next(os.walk('malimg_paper_dataset_imgs/Allaple.L'))[2]\n",
    "Alueron = next(os.walk('malimg_paper_dataset_imgs/Alueron.gen!J'))[2]\n",
    "Autorun = next(os.walk('malimg_paper_dataset_imgs/Autorun.K'))[2]\n",
    "C2LOP1 = next(os.walk('malimg_paper_dataset_imgs/C2LOP.gen!g'))[2]\n",
    "C2LOP2 = next(os.walk('malimg_paper_dataset_imgs/C2LOP.P'))[2]\n",
    "Dialplatform = next(os.walk('malimg_paper_dataset_imgs/Dialplatform.B'))[2]\n",
    "Dontovo = next(os.walk('malimg_paper_dataset_imgs/Dontovo.A'))[2]\n",
    "Fakerean = next(os.walk('malimg_paper_dataset_imgs/Fakerean'))[2]\n",
    "Instantaccess = next(os.walk('malimg_paper_dataset_imgs/Instantaccess'))[2]\n",
    "LolydaAA1 = next(os.walk('malimg_paper_dataset_imgs/Lolyda.AA1'))[2]\n",
    "LolydaAA2 = next(os.walk('malimg_paper_dataset_imgs/Lolyda.AA2'))[2]\n",
    "LolydaAA3 = next(os.walk('malimg_paper_dataset_imgs/Lolyda.AA3'))[2]\n",
    "LolydaAT = next(os.walk('malimg_paper_dataset_imgs/Lolyda.AT'))[2]\n",
    "Malex = next(os.walk('malimg_paper_dataset_imgs/Malex.gen!J'))[2]\n",
    "Obfuscator = next(os.walk('malimg_paper_dataset_imgs/Obfuscator.AD'))[2]\n",
    "Rbot = next(os.walk('malimg_paper_dataset_imgs/Rbot!gen'))[2]\n",
    "Skintrim = next(os.walk('malimg_paper_dataset_imgs/Skintrim.N'))[2]\n",
    "SwizzorE = next(os.walk('malimg_paper_dataset_imgs/Swizzor.gen!E'))[2]\n",
    "SwizzorI = next(os.walk('malimg_paper_dataset_imgs/Swizzor.gen!I'))[2]\n",
    "VB = next(os.walk('malimg_paper_dataset_imgs/VB.AT'))[2]\n",
    "Wintrim = next(os.walk('malimg_paper_dataset_imgs/Wintrim.BX'))[2]\n",
    "Yuner = next(os.walk('malimg_paper_dataset_imgs/Yuner.A'))[2]\n",
    "\n",
    "print('Adalier.C: ', len(Adalier))\n",
    "print('Agent.FYI: ', len(Agent))\n",
    "print('Allaple.A: ',  len(Agent))\n",
    "print('Allaple.L: ', len(AllapleL))\n",
    "print('Alueron.gen!J: ', len(Alueron))\n",
    "print('Autorun.K: ', len(Autorun))\n",
    "print('C2LOP.P: ', len(C2LOP2))\n",
    "print('Dialplatform.B: ', len(Dialplatform))\n",
    "print('Dontovo.A: ', len(Dontovo))\n",
    "print('Fakerean: ', len(Fakerean))\n",
    "print('Instantaccess: ', len(Instantaccess))\n",
    "print('LolydaAA1: ', len(LolydaAA1))\n",
    "print('LolydaAA2: ', len(LolydaAA1))\n",
    "print('LolydaAA3: ', len(LolydaAA1))\n",
    "print('LolydaAT: ', len(LolydaAT))\n",
    "print('Malex: ', len(Malex))\n",
    "print('Obfuscator: ', len(Obfuscator))\n",
    "print('Rbot: ', len(Rbot))\n",
    "print('Skintrim: ', len(Skintrim))\n",
    "print('SwizzorE: ', len(SwizzorE))\n",
    "print('SwizzorI: ', len(SwizzorI))\n",
    "print('VB.AT: ', len(VB))\n",
    "print('Wintrim: ', len(Wintrim))\n",
    "print('Yuner: ', len(Yuner))"
   ]
  },
  {
   "cell_type": "markdown",
   "metadata": {},
   "source": [
    "Se tomaran en cuenta solo las familias con mas de 198 ejemplares: Allaple.L, Alueron.gen!J, Fakerean, Instantaccess, LolydaAA1, LolydaAA2, LolydaAA3, VB.AT y Yuner"
   ]
  },
  {
   "cell_type": "markdown",
   "metadata": {},
   "source": [
    "### 2. Plotee las imágenes de los ejemplares de malware. "
   ]
  },
  {
   "cell_type": "code",
   "execution_count": 32,
   "metadata": {},
   "outputs": [],
   "source": [
    "# Allaple.L"
   ]
  },
  {
   "cell_type": "code",
   "execution_count": null,
   "metadata": {},
   "outputs": [],
   "source": []
  }
 ],
 "metadata": {
  "interpreter": {
   "hash": "949777d72b0d2535278d3dc13498b2535136f6dfe0678499012e853ee9abcab1"
  },
  "kernelspec": {
   "display_name": "Python 3.10.2 64-bit",
   "language": "python",
   "name": "python3"
  },
  "language_info": {
   "codemirror_mode": {
    "name": "ipython",
    "version": 3
   },
   "file_extension": ".py",
   "mimetype": "text/x-python",
   "name": "python",
   "nbconvert_exporter": "python",
   "pygments_lexer": "ipython3",
   "version": "3.10.2"
  },
  "orig_nbformat": 4
 },
 "nbformat": 4,
 "nbformat_minor": 2
}
